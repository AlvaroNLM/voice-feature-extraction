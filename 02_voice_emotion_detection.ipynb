{
 "cells": [
  {
   "cell_type": "code",
   "execution_count": 3,
   "id": "d12befe8",
   "metadata": {},
   "outputs": [
    {
     "name": "stderr",
     "output_type": "stream",
     "text": [
      "c:\\Users\\alvar\\miniconda3\\envs\\nlp\\lib\\site-packages\\tqdm\\auto.py:21: TqdmWarning: IProgress not found. Please update jupyter and ipywidgets. See https://ipywidgets.readthedocs.io/en/stable/user_install.html\n",
      "  from .autonotebook import tqdm as notebook_tqdm\n"
     ]
    }
   ],
   "source": [
    "# Libraries\n",
    "import torchaudio\n",
    "from transformers import AutoProcessor, AutoModelForAudioClassification\n",
    "import torchaudio.transforms as T\n",
    "import torch\n",
    "import glob\n",
    "import os\n",
    "import numpy as np\n",
    "import pandas as pd\n",
    "import matplotlib.pyplot as plt\n",
    "from sklearn.model_selection import train_test_split\n",
    "from sklearn.ensemble import RandomForestClassifier\n",
    "from sklearn.metrics import classification_report\n",
    "from sklearn.preprocessing import StandardScaler"
   ]
  },
  {
   "cell_type": "code",
   "execution_count": 8,
   "id": "ab056e1d",
   "metadata": {},
   "outputs": [],
   "source": [
    "# Define path to data\n",
    "path = os.path.join(os.getcwd(), \"data\")\n",
    "wav_files = glob.glob(os.path.join(path, \"*.wav\"))"
   ]
  },
  {
   "cell_type": "code",
   "execution_count": 5,
   "id": "2c82debc",
   "metadata": {},
   "outputs": [
    {
     "name": "stderr",
     "output_type": "stream",
     "text": [
      "c:\\Users\\alvar\\miniconda3\\envs\\nlp\\lib\\site-packages\\huggingface_hub\\file_download.py:943: FutureWarning: `resume_download` is deprecated and will be removed in version 1.0.0. Downloads always resume when possible. If you want to force a new download, use `force_download=True`.\n",
      "  warnings.warn(\n",
      "c:\\Users\\alvar\\miniconda3\\envs\\nlp\\lib\\site-packages\\huggingface_hub\\file_download.py:143: UserWarning: `huggingface_hub` cache-system uses symlinks by default to efficiently store duplicated files but your machine does not support them in C:\\Users\\alvar\\.cache\\huggingface\\hub\\models--Dpngtm--wav2vec2-emotion-recognition. Caching files will still work but in a degraded version that might require more space on your disk. This warning can be disabled by setting the `HF_HUB_DISABLE_SYMLINKS_WARNING` environment variable. For more details, see https://huggingface.co/docs/huggingface_hub/how-to-cache#limitations.\n",
      "To support symlinks on Windows, you either need to activate Developer Mode or to run Python as an administrator. In order to activate developer mode, see this article: https://docs.microsoft.com/en-us/windows/apps/get-started/enable-your-device-for-development\n",
      "  warnings.warn(message)\n",
      "c:\\Users\\alvar\\miniconda3\\envs\\nlp\\lib\\site-packages\\huggingface_hub\\file_download.py:943: FutureWarning: `resume_download` is deprecated and will be removed in version 1.0.0. Downloads always resume when possible. If you want to force a new download, use `force_download=True`.\n",
      "  warnings.warn(\n"
     ]
    }
   ],
   "source": [
    "# Load pre-trained emotion model\n",
    "name_model = \"Dpngtm/wav2vec2-emotion-recognition\"\n",
    "processor = AutoProcessor.from_pretrained(name_model)\n",
    "model = AutoModelForAudioClassification.from_pretrained(name_model)\n",
    "# Given a file, to predict the emotion\n",
    "def predict_emotion(file_path):\n",
    "    waveform, sr = torchaudio.load(file_path)\n",
    "    # Resample if necessary\n",
    "    if sr != 16000:\n",
    "        waveform = torchaudio.transforms.Resample(sr, 16000)(waveform)\n",
    "    inputs = processor(waveform.squeeze(), sampling_rate=16000, return_tensors=\"pt\")\n",
    "    with torch.no_grad():\n",
    "        logits = model(**inputs).logits\n",
    "    predicted_class_id = torch.argmax(logits).item()\n",
    "    predicted_label = model.config.id2label[predicted_class_id]\n",
    "    return predicted_label"
   ]
  },
  {
   "cell_type": "code",
   "execution_count": null,
   "id": "9c657525",
   "metadata": {},
   "outputs": [],
   "source": [
    "# Feature extraction function\n",
    "def get_feautres_from_file(wav_files):\n",
    "    features, labels = [], []\n",
    "    # Feature extraction loop\n",
    "    for file in wav_files:\n",
    "        waveform, sr = torchaudio.load(file)\n",
    "\n",
    "        # Ensure mono\n",
    "        if waveform.shape[0] > 1:\n",
    "            waveform = waveform.mean(dim=0, keepdim=True)\n",
    "\n",
    "        # Compute log-Mel Spectrogram\n",
    "        mel_spec = T.MelSpectrogram(sample_rate=sr)(waveform)\n",
    "        mel_db = T.AmplitudeToDB()(mel_spec)\n",
    "\n",
    "        # Global statistics\n",
    "        mean = mel_db.mean().item()\n",
    "        std = mel_db.std().item()\n",
    "        max_val = mel_db.max().item()\n",
    "        min_val = mel_db.min().item()\n",
    "\n",
    "        # Duration (in seconds)\n",
    "        duration = waveform.shape[1] / sr\n",
    "        # features\n",
    "        features.append([mean, std, max_val, min_val, duration])\n",
    "        # emotions' labels\n",
    "        labels.append(predict_emotion(file))\n",
    "    return features, labels"
   ]
  },
  {
   "cell_type": "code",
   "execution_count": null,
   "id": "1c16eeaf",
   "metadata": {},
   "outputs": [
    {
     "name": "stderr",
     "output_type": "stream",
     "text": [
      "c:\\Users\\alvar\\miniconda3\\envs\\nlp\\lib\\site-packages\\torchaudio\\functional\\functional.py:584: UserWarning: At least one mel filterbank has all zero values. The value for `n_mels` (128) may be set too high. Or, the value for `n_freqs` (201) may be set too low.\n",
      "  warnings.warn(\n"
     ]
    }
   ],
   "source": [
    "features, labels = get_feautres_from_file(wav_files)"
   ]
  },
  {
   "cell_type": "code",
   "execution_count": null,
   "id": "a5575e6d",
   "metadata": {},
   "outputs": [],
   "source": [
    "# Create DataFrame\n",
    "X = pd.DataFrame(features, columns=[\"mean_db\", \"std_db\", \"max_db\", \"min_db\", \"duration\"])\n",
    "y = pd.Series(labels, name=\"emotion\")"
   ]
  },
  {
   "cell_type": "code",
   "execution_count": null,
   "id": "4a9ff9a5",
   "metadata": {},
   "outputs": [],
   "source": [
    "# Train-test split\n",
    "X_train, X_test, y_train, y_test = train_test_split(X, y, test_size=0.2, stratify=y, random_state=42)"
   ]
  },
  {
   "cell_type": "code",
   "execution_count": null,
   "id": "c3bae725",
   "metadata": {},
   "outputs": [],
   "source": [
    "# Normalize\n",
    "scaler = StandardScaler()\n",
    "X_train_scaled = scaler.fit_transform(X_train)\n",
    "X_test_scaled = scaler.transform(X_test)"
   ]
  },
  {
   "cell_type": "code",
   "execution_count": null,
   "id": "7573ca15",
   "metadata": {},
   "outputs": [],
   "source": [
    "# Train model\n",
    "clf = RandomForestClassifier(n_estimators=100, random_state=42)\n",
    "clf.fit(X_train_scaled, y_train)"
   ]
  },
  {
   "cell_type": "code",
   "execution_count": null,
   "id": "22550b32",
   "metadata": {},
   "outputs": [],
   "source": [
    "# Evaluation\n",
    "y_pred = clf.predict(X_test_scaled)\n",
    "print(classification_report(y_test, y_pred))"
   ]
  }
 ],
 "metadata": {
  "kernelspec": {
   "display_name": "nlp",
   "language": "python",
   "name": "python3"
  },
  "language_info": {
   "codemirror_mode": {
    "name": "ipython",
    "version": 3
   },
   "file_extension": ".py",
   "mimetype": "text/x-python",
   "name": "python",
   "nbconvert_exporter": "python",
   "pygments_lexer": "ipython3",
   "version": "3.10.18"
  }
 },
 "nbformat": 4,
 "nbformat_minor": 5
}
